{
 "cells": [
  {
   "cell_type": "code",
   "execution_count": null,
   "metadata": {
    "id": "y7Dt5FxUsXVE"
   },
   "outputs": [],
   "source": [
    "import pandas as pd\n",
    "\n",
    "# from utils import bcolors"
   ]
  },
  {
   "cell_type": "markdown",
   "metadata": {},
   "source": [
    "W tym projekcie zajmiemy się technologią, która jest bardzo popularna i przydatna oraz jest jednym z głównych komponentów takich modeli jak ChatGPT - *Language Model* : [Wikipedia](https://en.wikipedia.org/wiki/Language_model)<br>\n",
    "\n",
    "W dużym uproszczeniu staramy się wypredykować kolejne słowo w danej sekwencji. Pomyślcie o następującym zdaniu:<br><br>\n",
    "***Mamy dzisiaj bardzo słoneczną ...***<br><br>\n",
    "Zapewne zdecydowana większość z was zaproponowałaby kończące słowo $pogodę$, być może ktoś zaporponowałby słowo $atmosferę$, ale prawie na pewno nikt nie zaproponowałby słowa $krzesło$.<br>\n",
    "Uporaszczając właśnie takie zadanie, taką predykcję, wykonują modele takie jak ChatGPT (oczywiście pozwalają one również zadać, która bardziej ogólnie nazywamy promptem). Zatem nasz model ML'owy ma za zadanie wyestymować warunkowy rozkład słów (czyli prawdopodobieństwa dla poszczegółnych słów, wszystkich słów w słowniku) pod warunkiem tej niedokończonej sekwencji:<br><br>\n",
    "```\n",
    "P('pogodę' | ['Mamy', 'dzisiaj', 'bardzo', 'słoneczną']) = ?\n",
    "\n",
    "P('atmosferę' | ['Mamy', 'dzisiaj', 'bardzo', 'słoneczną']) = ?\n",
    "\n",
    "P('krzesło' | ['Mamy', 'dzisiaj', 'bardzo', 'słoneczną']) = ?\n",
    "```\n",
    "\n",
    "Gdyby ktoś poprosił mnie abym oszacował te warnkowe prawdopodobieństwa zapewne przypisałbym następujące wartości (uwaga: to mój subiektywny szacunek, proszę nie traktować tych liczb jako wyliczonych na podstawie jakiś danych, chciałem raczej przekazać różnice pomiędzy tymi prawdopodobieństwami)\n",
    "\n",
    "```\n",
    "P('pogodę' | ['Mamy', 'dzisiaj', 'bardzo', 'słoneczną']) = 0.95\n",
    "\n",
    "P('atmosferę' | ['Mamy', 'dzisiaj', 'bardzo', 'słoneczną']) = 0.03\n",
    "\n",
    "P('krzesło' | ['Mamy', 'dzisiaj', 'bardzo', 'słoneczną']) ~ 0\n",
    "```\n",
    "\n",
    "**Oczywiście gdybyśmy zsumowali te prawdopodobieństwa warunkowe po wszystkich słowach w słowniku to otrzymalibyśmy wartość 1!**<br><br>"
   ]
  },
  {
   "cell_type": "markdown",
   "metadata": {},
   "source": [
    "Zwykle taki *Language Model* musi być uczony na ogromnych korpusach danych, liczących Terabajty (np. cała wikipedia), my aby zaprezentować podobny mechanizm w naszym projekcie \"zejdziemy jedno oczko niżej\" - **Zamiast predykować następne słowo w zdaniu będziemy predykować następną literę w wyrazie.** (pomyślcie chociażby ile jest możliwych wszystkich słów w słowniku a ile jest możliwych liter! Takie znaczące zmniejszenie pomoże nam zbudować mały działający model).<br><br>\n",
    "Nasz *Language model* będzie dotyczył \"języka\" polskich nazw miejscowości. Za pomocą naszego modelu będziemy mogli generować nowe nazwy polskich miast!"
   ]
  },
  {
   "cell_type": "markdown",
   "metadata": {
    "id": "2b30t0Ee6_of"
   },
   "source": [
    "Dane pochodzą z https://dane.gov.pl/pl/dataset/188,wykaz-urzedowych-nazw-miejscowosci-i-ich-czesci"
   ]
  },
  {
   "cell_type": "code",
   "execution_count": null,
   "metadata": {},
   "outputs": [],
   "source": [
    "df_cities = pd.read_csv(\"PRNG_MIEJSCOWOSCI_05_2021.csv\", sep=';')\n",
    "df_cities"
   ]
  },
  {
   "cell_type": "code",
   "execution_count": null,
   "metadata": {
    "colab": {
     "base_uri": "https://localhost:8080/"
    },
    "id": "_vij_d2rs04W",
    "outputId": "e9392575-14a4-489f-913a-ac59fe804ec4"
   },
   "outputs": [],
   "source": [
    "df_cities['Rodzaj miejscowości'].value_counts()"
   ]
  },
  {
   "cell_type": "markdown",
   "metadata": {
    "id": "n6qkSyiy8THy"
   },
   "source": [
    "Do modelu wybieramy tylko nazwy miast. Proszę stworzyć listę, która będzie zawierała nazwy miast, filtrując tę informację na podstawie kolumny `Rodzaj miejscowości`"
   ]
  },
  {
   "cell_type": "code",
   "execution_count": null,
   "metadata": {
    "colab": {
     "base_uri": "https://localhost:8080/"
    },
    "id": "CL0tJv7jtAKb",
    "outputId": "d5d2809b-8172-4675-f25d-2bda54cb7e1f"
   },
   "outputs": [],
   "source": [
    "list_of_cities = df_cities[df_cities['Rodzaj miejscowości'] == 'miasto']['Główna nazwa miejscowości'].to_list()\n",
    "\n",
    "list_of_cities[:10]"
   ]
  },
  {
   "cell_type": "code",
   "execution_count": null,
   "metadata": {},
   "outputs": [],
   "source": [
    "len(list_of_cities)"
   ]
  },
  {
   "cell_type": "code",
   "execution_count": null,
   "metadata": {
    "code_folding": [
     0
    ]
   },
   "outputs": [],
   "source": [
    "#rozwiązanie\n",
    "list_of_cities = df_cities[df_cities['Rodzaj miejscowości'] == 'miasto']['Główna nazwa miejscowości'].tolist()\n",
    "\n",
    "list_of_cities[:10]"
   ]
  },
  {
   "cell_type": "markdown",
   "metadata": {},
   "source": [
    "<span style=\"font-family:Monospace\"> ['Aleksandrów Kujawski',<br>\n",
    " 'Aleksandrów Łódzki',<br>\n",
    " 'Alwernia',<br>\n",
    " 'Andrychów',<br>\n",
    " 'Annopol',<br>\n",
    " 'Augustów',<br>\n",
    " 'Babimost',<br>\n",
    " 'Baborów',<br>\n",
    " 'Baranów Sandomierski',<br>\n",
    " 'Barcin'] </span>"
   ]
  },
  {
   "cell_type": "markdown",
   "metadata": {
    "id": "AouDXIyS7c5m"
   },
   "source": [
    "Każdą miejscowośc poprzedzamy tokenem sos (start of sentence) i kończymy eos (end of sentence):<br>\n",
    "```\n",
    "<sos>Wrocław</eos> \n",
    "```\n",
    "W naszym przypadku umawiamy sie na % i ! - ponieważ model będzie oparty o pojedyncze litery i w takiej sytuacji jest wygodniej gdy specjalne tokeny również są pojedynczymi znakami.<br>\n",
    "```\n",
    "%Wrocław!\n",
    "```\n",
    "Proszę dodać w naszej liście do każdej nazwy miejscowości na początku symbol `%` a na końcu `!` (polecam użyć list comprehension):"
   ]
  },
  {
   "cell_type": "code",
   "execution_count": null,
   "metadata": {},
   "outputs": [],
   "source": [
    "city_list = ['%' + city + '!' for city in list_of_cities]\n",
    "\n",
    "\n",
    "city_list[:10]"
   ]
  },
  {
   "cell_type": "code",
   "execution_count": null,
   "metadata": {
    "code_folding": [
     0
    ]
   },
   "outputs": [],
   "source": [
    "#rozwiązanie\n",
    "city_list = ['%' + city + '!' for city in list_of_cities]\n",
    "\n",
    "city_list[:10]"
   ]
  },
  {
   "cell_type": "markdown",
   "metadata": {},
   "source": [
    "<span style=\"font-family:Monospace\"> ['%Aleksandrów Kujawski!',<br>\n",
    " '%Aleksandrów Łódzki!',<br>\n",
    " '%Alwernia!',<br>\n",
    " '%Andrychów!',<br>\n",
    " '%Annopol!',<br>\n",
    " '%Augustów!',<br>\n",
    " '%Babimost!',<br>\n",
    " '%Baborów!',<br>\n",
    " '%Baranów Sandomierski!',<br>\n",
    " '%Barcin!']</span>"
   ]
  },
  {
   "cell_type": "markdown",
   "metadata": {},
   "source": [
    "No dobrze - w większości mamy już gotowy zestaw danych, nasz \"język\" miast polskich. Teraz musimy pomyśleć nad modelem, który będzie estymował rozkład warunkowy poszczególnych liter/znaków. Do tego celu wykorzystamy sieci RNN."
   ]
  },
  {
   "cell_type": "code",
   "execution_count": null,
   "metadata": {
    "id": "meLTQJrGuYdz"
   },
   "outputs": [],
   "source": [
    "import tensorflow as tf\n",
    "from tensorflow.keras import Sequential\n",
    "from tensorflow.keras.layers import TextVectorization, Embedding, LSTM, TimeDistributed, Dense, Dropout, GRU\n",
    "from tensorflow.keras.losses import SparseCategoricalCrossentropy\n",
    "from sklearn.model_selection import train_test_split\n",
    "from tensorflow.keras.preprocessing.text import Tokenizer\n",
    "from tensorflow.keras.preprocessing.sequence import pad_sequences\n",
    "import numpy as np\n",
    "from keras.activations import softmax\n",
    "import tensorflow.keras as keras"
   ]
  },
  {
   "cell_type": "code",
   "execution_count": null,
   "metadata": {},
   "outputs": [],
   "source": [
    "t = \"to jest moje przykładowe zdanie\"\n",
    "t.split(\" \")"
   ]
  },
  {
   "cell_type": "code",
   "execution_count": null,
   "metadata": {
    "colab": {
     "base_uri": "https://localhost:8080/"
    },
    "id": "rfJNZ85Pun-x",
    "outputId": "fb577d33-9422-4538-e2de-d6ef9680fe8d"
   },
   "outputs": [],
   "source": [
    "# resetujemy filtr aby nie usunął tokenów % i !, nie zmniejszamy liter - model ma się nauczyć poprawnej wielkości\n",
    "tokenizer = Tokenizer(filters='', lower=False, char_level=True)\n",
    "tokenizer.fit_on_texts(city_list)\n",
    "\n",
    "# Sprawdzamy ile mamy możliwych znaków ale dodajemy jeszcze jeden, gdyż za chwilę będziemy dodawać znak `0` jako padding\n",
    "vocab_size = len(tokenizer.word_index) + 1\n",
    "print(f'Wielkość naszego słownika wynosi: {vocab_size}')\n",
    "# tokenizer.word_index"
   ]
  },
  {
   "cell_type": "markdown",
   "metadata": {},
   "source": [
    "Możemy zobaczyć kilka elementów z naszego słownika.<br>\n",
    "Można też zobaczyć całość wywołując poniższą komendę ale wynik będzie dość długi:\n",
    ">tokenizer.word_index\n"
   ]
  },
  {
   "cell_type": "code",
   "execution_count": null,
   "metadata": {
    "scrolled": true
   },
   "outputs": [],
   "source": [
    "Nth = ['Pierwszy','Drugi','Trzeci', 'Czwarty', 'Piąty', 'Szósty', 'Siódmy']\n",
    "\n",
    "for nth, items in zip(Nth, tokenizer.word_index.items()):\n",
    "    print(f'{nth:8} - {items[0]}:{items[1]}')"
   ]
  },
  {
   "cell_type": "code",
   "execution_count": null,
   "metadata": {},
   "outputs": [],
   "source": [
    "# tokenizer.word_index"
   ]
  },
  {
   "cell_type": "markdown",
   "metadata": {},
   "source": [
    "Teraz czeka nast odpowiednie przygotowanie danych X i Y (objeśniających i objaśnianych) jako wejść do naszego modelu. Spróbujcie przełożyć nasz przykład, mając zdanie:\n",
    "```\n",
    "Mamy dzisiaj bardzo słoneczną pogodę\n",
    "```\n",
    "Przekształcamy je na:\n",
    "```\n",
    "              X                   ->   Y\n",
    "Mamy dzisiaj bardzo słoneczną ... -> pogodę\n",
    "```\n",
    "Bardzo podobnie chcemy zrobić z naszymi nazwami miast:\n",
    "```\n",
    "Oryginalne wejście: %Baborów!\n",
    "\n",
    "W jednej iteracji:\n",
    "    X    -> Y\n",
    "%Baborów -> !\n",
    "P(! | %Baborów)\n",
    "```\n",
    "ale także, w jednej iteracji:\n",
    "```\n",
    "    X    -> Y\n",
    " %Baboró -> w\n",
    " P(w | %Baboró)\n",
    "\n",
    "      X  -> Y\n",
    "    %Bab -> o\n",
    "    P(o | %Bab)\n",
    "```\n",
    "\n",
    "Okazuje się, że tych wiele iteracji będziemy w stanie zamknąć w jednym przebiegu modelu RNN zatem ostatecznie nie potrzebujemy tych wszystkich kombinacji o różnej długości dla jednej nazwy miasta ale następującego X i Y:\n",
    "```\n",
    "    X    ->    Y\n",
    "%Baborów -> Baborów!\n",
    "```\n",
    "Model RNN będzie tak 'sprytny', że na podstawie takiego X i Y będzie niejako liczył po kolei:\n",
    "```\n",
    "1. P(B | %)\n",
    "2. P(a | %B)\n",
    "3. P(b | %Ba)\n",
    "...\n",
    "```"
   ]
  },
  {
   "cell_type": "markdown",
   "metadata": {
    "id": "73WWGWCB8V04"
   },
   "source": [
    "Jeszcze jednym zagadnieniem technicznym jest normalizacja długości wejścia. Chcemy aby do sieci wchodziła macierz gdzie w pierwszj lini jest zakodowana pierwsza miejscowosć (podzielona na poszczegółne litery), w drugiej druga miejscowość itd. Problemem jest fakt, że miejscowości mają różne długości nazw. Zatem po prostu wyznaczymy najdłuższą nazwę miejscowości i dla wszystkich nazw krótyszch niż ona będziemy dodawać same zera na końcu.<br><br> Powoduje to jednak pewnien problem - krótsze nazwy będą składały się w dużej mierze z zer (paddingu). W takiej sytuacju model będzie uczył się że pad trzeba zamienić na pad. Nie jest to zła wiedza natomiast problematyczna z punktu widzenia procesu uczenia się sieci neuronowej - zamiana pad na pad jest bardzo łatwa i nie jest nam do niczego potrzebna. Jeżeli tokeny pad będą uwzględniane przy liczneiu loss to będzie ona sztucznie zaniżona. Np. dla nazwy która w połowie składa się z paddingu, loss będzie zaniżony o połowę. Dlatego w późniejszej części ustawiamy maskowanie - tj ignorowanie klasy o indeksie 0. Nie będzie ona uwzględniana przy liczeniu wartości funkcji straty co da nam bardziej realistyczny obraz sytuacji.<br><br>\n",
    "Poniżej przykład jak zmienią się nazwy po paddingu:"
   ]
  },
  {
   "cell_type": "markdown",
   "metadata": {
    "id": "hXQT6RJ3xTnN"
   },
   "source": [
    "```\n",
    "%Babimost!000000000000\n",
    "%Baranów Sandomierski!\n",
    "\n",
    "%Baranów Sandomierski\n",
    "Baranów Sandomierski!\n",
    "\n",
    "%Babimost000000000000\n",
    "Babimost!000000000000\n",
    "```\n",
    "\n",
    "\n"
   ]
  },
  {
   "cell_type": "code",
   "execution_count": null,
   "metadata": {
    "colab": {
     "base_uri": "https://localhost:8080/"
    },
    "id": "qe15GpVqvVHk",
    "outputId": "28d5e6b4-0b96-40b5-c68b-720215c39ba4"
   },
   "outputs": [],
   "source": [
    "X_train = [city[:-1] for city in city_list] # input jest w formacie %Wrocław\n",
    "y_train = [city[1:] for city in city_list] # output jest w formacie Wrocław!\n",
    "\n",
    "print(f'example input: {X_train[6]}, example output: {y_train[6]}')\n",
    "\n",
    "X_train = tokenizer.texts_to_sequences(X_train)\n",
    "y_train = tokenizer.texts_to_sequences(y_train)\n",
    "\n",
    "X_train = pad_sequences(X_train, padding='post')\n",
    "y_train = pad_sequences(y_train, padding='post')\n",
    "\n",
    "print(f'example input: {X_train[6]}, example output: {y_train[6]}')\n"
   ]
  },
  {
   "cell_type": "code",
   "execution_count": null,
   "metadata": {},
   "outputs": [],
   "source": [
    "X_train.shape"
   ]
  },
  {
   "cell_type": "markdown",
   "metadata": {},
   "source": [
    "Dochodzimy do konstruowania modelu. Proszę uzupełnić funkcję \\_\\_init\\_\\_ dla klasy LanguageModel zgodnie z podanymi poleceniami."
   ]
  },
  {
   "cell_type": "code",
   "execution_count": null,
   "metadata": {
    "id": "rn97HFflvyYZ",
    "scrolled": true
   },
   "outputs": [],
   "source": [
    "class LanguageModel(keras.Model):\n",
    "    def __init__(self):\n",
    "        \n",
    "        # użycie wszystkich elementów inicjalizacji klasy po której dziedziczy nasz klasa, czyli po keras.Model:\n",
    "        super().__init__(self)\n",
    "        \n",
    "        ### Proszę poniżej uzupełnić kod ###\n",
    "        \n",
    "        # proszę zainicjalizować warstę Embedding z pakietu keras, z odpowiednim kształtem wejścia (ile \"obiektów\" \n",
    "        # musimy obsłużyć?), wielkością wektora kodującego 128, i flagą dotyczącą maskowania zer na True\n",
    "        self.embedding = Embedding(vocab_size, output_dim=128, mask_zero=True)\n",
    "        \n",
    "        # proszę zainicjalizować warstę GRU (z rodzinny modeli RNN) z pakietu keras, z liczbą jednostek 64, \n",
    "        # parametrem do zwracania całej sekwencji oraz paramterem dotyczącym zwracania stanu ukrytego ustawionymi na prawdę\n",
    "        self.rnn = GRU(64, return_sequences=True, return_state=True)\n",
    "        \n",
    "        # proszę zainicjalizować gęstą warstwę z pakietu keras z odpowiednią liczbą wyjść - dla ilu \"obiektów\" musimy\n",
    "        # wyznaczyć prawdopodobieństwa warunkowe? Proszę podać poprawną funkcję aktywacji - jaka funkcja najlepiej \n",
    "        # reprezentuje rozkład prawdopodobieństwa?\n",
    "        self.fc = Dense(vocab_size, activation='softmax')\n",
    "        \n",
    "        ### Koniec uzupełniania kodu ###\n",
    "    \n",
    "    def call(self, inputs, training=False, hidden_state=None, return_state=False): #ta funkcja będzie nam służyła do inferencji\n",
    "        \"\"\"\n",
    "        inputs - wejście w formacie [batch size x max seq len]\n",
    "        training - parametr określający czy model jest w trakcie fazy treningu\n",
    "        hidden_state - initial state sieci RNN od którego sieć ma zacząć obliczenia. Jeżeli None - domyślny start\n",
    "        retur_state - czy użytkownik chce aby zwrócić ostatni hidden state?\n",
    "        \"\"\"\n",
    "        x = inputs\n",
    "        # wyznaczamy embeddingi czyli wektorowe reprezentacje poszczególnych znaków\n",
    "        x = self.embedding(x, training=training)\n",
    "\n",
    "        if hidden_state is None:\n",
    "            # jeśli nie został podany hidden state to używamy domyślnego, zwykle będzie to wektor samych zer\n",
    "            hidden_state = self.rnn.get_initial_state(inputs=x)\n",
    "\n",
    "        # zwróćcie proszę uwagę, że z jednej komórki RNN otrzymujemy 2 zmienne - seq_out i last_hidden_state\n",
    "        seq_out, last_hidden_state = self.rnn(x, training=training, initial_state=hidden_state)\n",
    "        # predykujemy rozkład warunkowy jaki powinien być kolejny znak (czyli dokładnie to co oczekiwaliśmy od Language Model)\n",
    "        x = self.fc(seq_out)\n",
    "\n",
    "        if return_state:\n",
    "            # zwracamy predykcję i ostatni stan ukryty\n",
    "            return x, last_hidden_state\n",
    "        return x #zwracamy tylko predykcję\n",
    "\n",
    "    \n",
    "model = LanguageModel()\n",
    "model(X_train)\n",
    "# model.build(input_shape=[None, 1])\n",
    "model.summary()"
   ]
  },
  {
   "attachments": {
    "language_model.png": {
     "image/png": "[encoded data removed]"
    }
   },
   "cell_type": "markdown",
   "metadata": {},
   "source": [
    "![language_model.png](attachment:language_model.png)"
   ]
  },
  {
   "cell_type": "code",
   "execution_count": null,
   "metadata": {
    "code_folding": [
     0
    ]
   },
   "outputs": [],
   "source": [
    "#rozwiązanie\n",
    "class LanguageModel(keras.Model):\n",
    "    def __init__(self):\n",
    "        super().__init__(self)\n",
    "        self.embedding = keras.layers.Embedding(vocab_size, output_dim=128, mask_zero=True) # maskowanie zer. Maska propaguje się przez całą sieć automatycznie\n",
    "        self.rnn = keras.layers.GRU(64, return_sequences=True, return_state=True)\n",
    "        self.fc = keras.layers.Dense(vocab_size, activation='softmax')\n",
    "    \n",
    "    def call(self, inputs, training=False, hidden_state=None, return_state=False): #ta funkcja będzie nam służyła do inferencji\n",
    "        \"\"\"\n",
    "        inputs - wejście w formacie [batch size x max seq len]\n",
    "        training - parametr określający czy model jest w trakcie fazy treningu\n",
    "        hidden_state - initial state sieci RNN od którego sieć ma zacząć obliczenia. Jeżeli None - domyślny start\n",
    "        retur_state - czy użytkownik chce aby zwrócić ostatni hidden state?\n",
    "        \"\"\"\n",
    "        x = inputs\n",
    "        # wyznaczamy embeddingi czyli wektorowe reprezentacje poszczególnych znaków\n",
    "        x = self.embedding(x, training=training)\n",
    "\n",
    "        if hidden_state is None:\n",
    "            # jeśli nie został podany hidden state to używamy domyślnego, zwykle będzie to wektor samych zer\n",
    "            hidden_state = self.rnn.get_initial_state(inputs=x)\n",
    "\n",
    "        # zwróćcie proszę uwagę, że z jednej komórki RNN otrzymujemy 2 zmienne - seq_out i last_hidden_state\n",
    "        seq_out, last_hidden_state = self.rnn(x, training=training, initial_state=hidden_state)\n",
    "        # predykujemy rozkład warunkowy jaki powinien być kolejny znak (czyli dokładnie to co oczekiwaliśmy od Language Model)\n",
    "        x = self.fc(seq_out)\n",
    "\n",
    "        if return_state:\n",
    "            # zwracamy predykcję i ostatni stan ukryty\n",
    "            return x, last_hidden_state\n",
    "        return x #zwracamy tylko predykcję\n",
    "    \n",
    "model = LanguageModel()\n",
    "model(X_train)\n",
    "# model.build(input_shape=[None, 1])\n",
    "model.summary()"
   ]
  },
  {
   "cell_type": "code",
   "execution_count": null,
   "metadata": {
    "code_folding": []
   },
   "outputs": [],
   "source": [
    "# proszę zainicjalizować błąd potrzebny do treningu modelu - Sparse Categorical Cross-Entropy z pakietu keras\n",
    "criterion = keras.losses.CategoricalCrossentropy\n",
    "\n",
    "# proszę skompilować model podając powyższy błąd oraz ustawiając funkcję optymalizującą na 'adam'\n",
    "model.compile(loss=criterion, optimizer='adam')\n",
    "\n",
    "# proszę trenować model na odpowiednich danych uczących X i Y przez 150 epok\n",
    "history = model.fit(x=X_train, y=y_train, epochs=150)"
   ]
  },
  {
   "cell_type": "code",
   "execution_count": null,
   "metadata": {
    "code_folding": []
   },
   "outputs": [],
   "source": [
    "#rozwiązanie\n",
    "\n",
    "# proszę zainicjalizować błąd potrzebny do treningu modelu - Sparse Categorical Cross-Entropy z pakietu keras\n",
    "criterion = keras.losses.SparseCategoricalCrossentropy()\n",
    "\n",
    "# proszę skompilować model podając powyższy błąd oraz ustawiając funkcję optymalizującą na 'adam'\n",
    "model.compile(optimizer='adam', loss=criterion)\n",
    "\n",
    "# proszę trenować model na odpowiednich danych uczących X i Y przez 150 epok\n",
    "history = model.fit(x=X_train, y=y_train, epochs=150)"
   ]
  },
  {
   "cell_type": "markdown",
   "metadata": {},
   "source": [
    "Po wytrenowaniu modelu jedyne co nam zostaje to sprawdzić jak działa! Proszę zwrócić uwagę, że jest to model generatywny czyli potrafi generować \"nowe\" obiekty - w naszej sytuacji nowe nazwy miejscowości.<br><br>\n",
    "Chciałbym od razu uprzedzić, że niekoniecznie każdy wynik będzie brzmiał jak poprawna nazwa nieistnijącej polskiej miejscowości - czasem będzie niezrozumiałym szumem. Jednak jeśli faza treningu przebiegła poprawnie to przynajmniej część wygenerowanych nazw powinna brzmieć poprawnie.<br><br>\n",
    "Proszę też zwrócić uwagę jak nietrywialnym jest zagadnienie ewaluacji i pomiaru jakości takiego modelu - proste metryki jak dokładność, F1 itp. nie mają tutaj niestety zastosowania.<br><br>\n",
    "Zacznijmy od prostej inferencji w której zaczniemy od znaku lub kilku pierwszych znaków zwanych prompt'em lub seed'em. Następnie za pomocą modelu wypredykujemy rozkład jaki znak powinien być kolejny. Na podstawie takiego rozkładu możemy wybrać kolejny znak - albo poprzez losowanie zgodnie z rozkładem, albo wybierając znak z największym prawdopodobieństwem (proszę zwrócić uwagę, że jeśli będziemy wybierać zawsze najwyższe prawdopodobieństwo do nasz wynik będzie zawsze takie sam!). Po ustaleniu kolejnego znaku dodajemy go do naszego prompt'u i ponawamy całą procedurę. Powtarzamy ten kroki albo 30 razy albo jeśli dojedziemy do naszego znaku końca nazwy miejscowości: `!` (model niejako sam \"zrozumie\", że w tym miejscu nazwa się kończy i nie powinien kontynuować).<br><br>\n",
    "*Informacyjnie - poza `Greedy search` i `Probabilistic sampling` jest jeszcze `Beam search` - do implementacji dla chetnych.*"
   ]
  },
  {
   "cell_type": "code",
   "execution_count": null,
   "metadata": {
    "colab": {
     "base_uri": "https://localhost:8080/"
    },
    "id": "w2LhKv7G6GXV",
    "outputId": "2065647d-8350-400a-ba1e-15e3320034ed"
   },
   "outputs": [],
   "source": [
    "# próbkowanie/inferencja modelu\n",
    "\n",
    "def sample_model(prompt=\"%\", greedy=False):\n",
    "    # jeżeli po 30 krokach model nie uzna za stosowne wypredykować tokena </eos> oznaczający koniec, przerywamy. \n",
    "    for i in range(30):\n",
    "        # enkodowanie promptu czyli zamiana znaków na liczby zgodnie z tokenizerem\n",
    "        encoded_prompt = tokenizer.texts_to_sequences([prompt])\n",
    "        \n",
    "        # generujemy predykcję rozkładu znaków pod warunkiem naszego promptu - nasz wytrenowany model\n",
    "        output = model.predict(encoded_prompt)\n",
    "        \n",
    "        # interesuje nas tylko rozkład po ostatnim znaku promptu (jeśli prompt ma więcej niż 1 znak to formalnie\n",
    "        # model wylicza nam rozkład waunkowy po każdym znaku w prompt'cie, nas interesuje tylko ten po ostatnim),\n",
    "        # proszę zwrócić uwagę, że batch_size wynosi 1 dlatego odwołujemy się do pierwszej próbki\n",
    "        last_output = output[0, -1, :]\n",
    "        \n",
    "        if greedy:\n",
    "            #greedy sampling - algorytm zawsze wybierze najbardziej prawdopodobny znak jako kolejny. \n",
    "            # W takim scenariuszu generowane nazwy będą zawsze takie same.\n",
    "            next_char_idx = last_output.argmax()\n",
    "        else:\n",
    "            # propabilistic samplig - wylosuj kolejny znak zgodnie z rozkładem prawdopodobieństwa zwróconym przez \n",
    "            # model (czyli pewne znaki będą miały większe szanse zostać wylosowane niż inne!). Stosujemy najczęsciej\n",
    "            next_char_idx = np.random.choice(np.arange(len(last_output)),  p=last_output) \n",
    "        \n",
    "        # tak naprawdę wyznaczyliśmy numer kolejnego znaku - zamień jego indeks na konkretny znak\n",
    "        next_char = tokenizer.index_word[next_char_idx]\n",
    "        \n",
    "        #dodajemy ten znak do promptu\n",
    "        prompt += next_char\n",
    "        \n",
    "        # jeżeli model wyznaczył jako kolejny znak ! to oznacza że skończył samplowanie\n",
    "        if next_char == '!':\n",
    "            break\n",
    "    return prompt\n",
    "\n",
    "\n",
    "\n",
    "\n",
    "# ustalamy wartość początkową (nazywaną seed/prompt/warmpup text)\n",
    "\n",
    "prompt = \"%\" # tylko <sos> - niech model wypluje nazwe na dowolną literę\n",
    "# można również podać pierwszą lub kilka pierwszych liter:\n",
    "# prompt = '%Kamil'\n",
    "\n",
    "print(sample_model(prompt))\n"
   ]
  },
  {
   "cell_type": "code",
   "execution_count": null,
   "metadata": {},
   "outputs": [],
   "source": [
    "prompt = \"%\" # tylko <sos> - niech model wypluje nazwe na dowolną literę\n",
    "# można również podać pierwszą lub kilka pierwszych liter:\n",
    "# prompt = '%Kamil'\n",
    "\n",
    "print(sample_model(prompt))"
   ]
  },
  {
   "cell_type": "markdown",
   "metadata": {},
   "source": [
    "Okazuje się, że jeden z mechanizmów w kodzie powyżej możemy zoptymalizować - nie musimy wywoływać całego modelu za każdym razem z promptem rozszerzanym w każdym kroku o jeden znak. Wystarczy, że zgodnie z ideą sieci RNN przekażamy ostatni stan ukryty, który również może zostać zwrócony z modelu. Ten stan ukryty nazywamu też czasem stanem pamięci modelu i teoretycznie powinien on kodować/pamiętać jaka sekwencja znaków była podana zanim został wygenerowany. Zatem wystarczy, że poza oczywiście zapisywaniem \"na boku\" naszych kolejnych znaków generowanej nazwy miejscowości, będziemy podawać do naszego modelu ostatni stan ukryty oraz ostatni wygenerowany znak"
   ]
  },
  {
   "cell_type": "code",
   "execution_count": null,
   "metadata": {
    "colab": {
     "base_uri": "https://localhost:8080/",
     "height": 35
    },
    "id": "7en-oRvFELDn",
    "outputId": "0c403ca2-fb68-4a3c-e197-5435f5dd5172"
   },
   "outputs": [],
   "source": [
    "# Zaawansowane próbkowanie\n",
    "\n",
    "def sample_model_optimal(prompt='%', greedy=False):\n",
    "    # enkodowanie promptu czyli zamiana znaków na liczby zgodnie z tokenizerem\n",
    "    encoded_prompt = tokenizer.texts_to_sequences([prompt])\n",
    "    \n",
    "    #zamiana promptu na tensor - taki format danych będzie poprwnie chodził do modelu\n",
    "    encoded_prompt = tf.convert_to_tensor(encoded_prompt)\n",
    "    \n",
    "    #zadeklarujmy pierwszy stan ukryty, jako domyślny\n",
    "    hidden_state = None\n",
    "    \n",
    "    # podobnie jak wcześniej nie zezwalamy na więcej niż 30 znaków\n",
    "    for i in range(30):\n",
    "        \n",
    "        # predykujemy za pomocą modelu rozkład warunkowy oraz ostatni hidden state. Proszę zwrócić uwagę, że \n",
    "        # przekazujemy również stan ukryty podczas wywoływania modelu\n",
    "        model_out, hidden_state = model(encoded_prompt, return_state=True, hidden_state=hidden_state)\n",
    "        \n",
    "        # interesuje nas rozkład po ostanim znaku\n",
    "        last_output = model_out[0, -1, :].numpy()\n",
    "        \n",
    "        if greedy:\n",
    "            #greedy sampling - algorytm zawsze wybierze najbardziej prawdopodobny znak jako kolejny. \n",
    "            # W takim scenariuszu generowane nazwy będą zawsze takie same.\n",
    "            next_char_idx = last_output.argmax()\n",
    "        else:\n",
    "            # propabilistic samplig - wylosuj kolejny znak zgodnie z rozkładem prawdopodobieństwa zwróconym przez \n",
    "            # model (czyli pewne znaki będą miały większe szanse zostać wylosowane niż inne!). Stosujemy najczęsciej\n",
    "            next_char_idx = np.random.choice(np.arange(len(last_output)),  p=last_output) \n",
    "            \n",
    "        # tak naprawdę wyznaczyliśmy numer kolejnego znaku - zamień jego indeks na konkretny znak\n",
    "        next_char = tokenizer.index_word[next_char_idx]\n",
    "        \n",
    "        #dodajemy ten znak do promptu\n",
    "        prompt += next_char\n",
    "\n",
    "        # jednak inaczej niż poprzednio kolejne wejście do modelu będzie zawierało TYLKO jeden, ostatnio wygenerowany znak\n",
    "        encoded_prompt = tokenizer.texts_to_sequences([next_char])\n",
    "\n",
    "        # zamiana enkodowanego promptu na tensor, który będzie użyty w następnym przebiegu pętli\n",
    "        encoded_prompt = tf.convert_to_tensor(encoded_prompt)\n",
    "\n",
    "        # jeżeli model wyznaczył jako kolejny znak ! to oznacza że skończył samplowanie\n",
    "        if next_char == '!':\n",
    "            break\n",
    "    return prompt\n",
    "\n",
    "\n",
    "\n",
    "\n",
    "\n",
    "# ustalamy wartość początkową (nazywaną seed/prompt/warmpup text)\n",
    "\n",
    "prompt = \"%B\" # ustalamy prompt\n",
    "# można również podać pierwszą lub kilka pierwszych liter:\n",
    "# prompt = '%Kamil'\n",
    "\n",
    "print(sample_model_optimal(prompt))"
   ]
  },
  {
   "cell_type": "code",
   "execution_count": null,
   "metadata": {},
   "outputs": [],
   "source": [
    "prompt = \"%Kamil\" # ustalamy prompt\n",
    "# można również podać pierwszą lub kilka pierwszych liter:\n",
    "# prompt = '%Kamil'\n",
    "\n",
    "print(sample_model_optimal(prompt))"
   ]
  },
  {
   "cell_type": "code",
   "execution_count": null,
   "metadata": {},
   "outputs": [],
   "source": []
  },
  {
   "cell_type": "markdown",
   "metadata": {},
   "source": [
    "### Kontynuacja\n",
    "\n",
    "Polecam dalszą pracę z powyższym kodem. Kilka propozycji co można wykonać:\n",
    " - Zamiana hiperparametrów modelu tak aby błąd podczas uczenia był jeszcze mniejszy: hyperparameter tuning\n",
    " - Wyuczenie modelu języka dla nazw wsi, części miasta, historycznej nazwy miejscowości\n",
    " - Beam Search podczas inferencji"
   ]
  },
  {
   "cell_type": "code",
   "execution_count": null,
   "metadata": {
    "colab": {
     "base_uri": "https://localhost:8080/"
    },
    "id": "CoPyCOpI7ZXy",
    "outputId": "21793b80-6045-4665-bb00-120c67c0fc01"
   },
   "outputs": [],
   "source": [
    "# Jeżeli ktoś się zastanawia jak wygląda rozkład prawdopodobieństwa zwracany przez model to poniższa komórka \n",
    "# pokazuje te wartosci znaków dla których pstwo było większe niż 0.001. Najprawdopodobniej największą wartość \n",
    "# będzie miał znak `!`, gdyż zapewne przed chwilą zakończył się wykonywać kod generujący, którego ostatnim znakiem\n",
    "# najczęściej jest `!`. Natomiast można pokusić się o wypisywanie takich prawdopodobieństwa w trakcie generowania\n",
    "# kolejnych znaków w sekwencji liter - wtedy można zaobserwować jak te wartości się zmieniają dla różnych znaków\n",
    "\n",
    "for c, i in tokenizer.word_index.items():\n",
    "    prob = last_output[i]\n",
    "    if prob > 0.001:\n",
    "        print(f'{c}:{prob:.3f}')"
   ]
  },
  {
   "cell_type": "code",
   "execution_count": null,
   "metadata": {},
   "outputs": [],
   "source": []
  }
 ],
 "metadata": {
  "accelerator": "GPU",
  "colab": {
   "collapsed_sections": [],
   "name": "Model języka 101.ipynb",
   "provenance": []
  },
  "gpuClass": "standard",
  "kernelspec": {
   "display_name": "Python (ml_wsb)",
   "language": "python",
   "name": "ml_wsb"
  },
  "language_info": {
   "codemirror_mode": {
    "name": "ipython",
    "version": 3
   },
   "file_extension": ".py",
   "mimetype": "text/x-python",
   "name": "python",
   "nbconvert_exporter": "python",
   "pygments_lexer": "ipython3",
   "version": "3.8.12"
  }
 },
 "nbformat": 4,
 "nbformat_minor": 1
}
