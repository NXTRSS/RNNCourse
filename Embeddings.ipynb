{
 "cells": [
  {
   "cell_type": "code",
   "execution_count": null,
   "metadata": {
    "id": "amPmIggR7a64"
   },
   "outputs": [],
   "source": []
  },
  {
   "cell_type": "markdown",
   "metadata": {
    "id": "5504e91a"
   },
   "source": [
    "# Embeddings"
   ]
  },
  {
   "cell_type": "code",
   "execution_count": 1,
   "metadata": {
    "colab": {
     "base_uri": "https://localhost:8080/"
    },
    "executionInfo": {
     "elapsed": 9483,
     "status": "ok",
     "timestamp": 1674147865166,
     "user": {
      "displayName": "Kamil Jędryczek",
      "userId": "12810365642155061129"
     },
     "user_tz": -60
    },
    "id": "DgLkXEGy7hG1",
    "outputId": "edf7cbe6-c116-4d4d-c556-0b191f6cd52c"
   },
   "outputs": [
    {
     "name": "stderr",
     "output_type": "stream",
     "text": [
      "[nltk_data] Downloading package brown to\n",
      "[nltk_data]     /Users/kamiljedryczek/nltk_data...\n",
      "[nltk_data]   Package brown is already up-to-date!\n",
      "[nltk_data] Downloading package webtext to\n",
      "[nltk_data]     /Users/kamiljedryczek/nltk_data...\n",
      "[nltk_data]   Package webtext is already up-to-date!\n",
      "[nltk_data] Downloading package punkt to\n",
      "[nltk_data]     /Users/kamiljedryczek/nltk_data...\n",
      "[nltk_data]   Package punkt is already up-to-date!\n"
     ]
    },
    {
     "data": {
      "text/plain": [
       "True"
      ]
     },
     "execution_count": 1,
     "metadata": {},
     "output_type": "execute_result"
    }
   ],
   "source": [
    "import nltk\n",
    "nltk.download('brown')\n",
    "nltk.download('webtext')\n",
    "nltk.download('punkt')\n",
    "# !pip install gensim==4.1.2"
   ]
  },
  {
   "cell_type": "code",
   "execution_count": 2,
   "metadata": {
    "id": "582aaa16"
   },
   "outputs": [],
   "source": [
    "# from gensim.test.utils import common_texts\n",
    "from nltk.corpus import brown    \n",
    "sentences = brown.sents()\n",
    "from gensim.models import Word2Vec\n",
    "\n"
   ]
  },
  {
   "cell_type": "code",
   "execution_count": 3,
   "metadata": {
    "id": "AbZN91417uYq"
   },
   "outputs": [],
   "source": [
    "model = Word2Vec(sentences=sentences, vector_size=100, window=5, min_count=1, workers=4, epochs=10)\n",
    "model.save(\"word2vec.model\")"
   ]
  },
  {
   "cell_type": "code",
   "execution_count": 4,
   "metadata": {
    "colab": {
     "base_uri": "https://localhost:8080/"
    },
    "executionInfo": {
     "elapsed": 3,
     "status": "ok",
     "timestamp": 1674147933978,
     "user": {
      "displayName": "Kamil Jędryczek",
      "userId": "12810365642155061129"
     },
     "user_tz": -60
    },
    "id": "c0d0642d",
    "outputId": "35ec9b11-51bc-47fe-e25e-b9bd4dc024e4"
   },
   "outputs": [
    {
     "data": {
      "text/plain": [
       "array([ 0.01542845,  0.14390653, -0.01029331,  0.03453916, -0.08579704,\n",
       "       -0.21079381,  0.09966087,  0.39719805, -0.04539392, -0.1951939 ,\n",
       "        0.08989877, -0.29372728,  0.06357561, -0.02595259,  0.0797992 ,\n",
       "       -0.05369091,  0.16931267, -0.01646819, -0.13243099, -0.14058194,\n",
       "        0.26949087,  0.0150059 ,  0.1039385 ,  0.04544323,  0.10827827,\n",
       "        0.06008592, -0.27658778,  0.01691817, -0.08086421,  0.00829271,\n",
       "        0.11491624, -0.04844885,  0.13329665, -0.15241314, -0.01042587,\n",
       "       -0.1722569 ,  0.08079166, -0.18984303, -0.05938678, -0.04236454,\n",
       "       -0.00892058, -0.12664902, -0.04440002, -0.00091922, -0.05455324,\n",
       "       -0.05290395, -0.11463075, -0.01090625, -0.08332631,  0.13167171,\n",
       "        0.04102905, -0.15201662, -0.28859523,  0.00994872, -0.02703028,\n",
       "       -0.05518848,  0.21090433, -0.18373013,  0.06009957,  0.03777416,\n",
       "       -0.13237394,  0.03230786,  0.07311246,  0.09266839, -0.09826264,\n",
       "        0.20716098,  0.00764907,  0.18341093, -0.2125551 ,  0.21481058,\n",
       "        0.00612472,  0.205558  ,  0.12179979, -0.11617076,  0.05606997,\n",
       "        0.04835236,  0.07161673,  0.10058731, -0.08060265, -0.05371786,\n",
       "       -0.21444793, -0.07277127, -0.02092079,  0.12850691, -0.16871135,\n",
       "        0.00045726,  0.05025361, -0.00299769,  0.01059031,  0.1105511 ,\n",
       "        0.15568145, -0.11454213,  0.06387372, -0.03020175, -0.05823967,\n",
       "        0.01906995,  0.04186249, -0.09305356, -0.05599738,  0.16488706],\n",
       "      dtype=float32)"
      ]
     },
     "execution_count": 4,
     "metadata": {},
     "output_type": "execute_result"
    }
   ],
   "source": [
    "model.wv['computer']"
   ]
  },
  {
   "cell_type": "code",
   "execution_count": 5,
   "metadata": {
    "colab": {
     "base_uri": "https://localhost:8080/"
    },
    "executionInfo": {
     "elapsed": 319,
     "status": "ok",
     "timestamp": 1674147938086,
     "user": {
      "displayName": "Kamil Jędryczek",
      "userId": "12810365642155061129"
     },
     "user_tz": -60
    },
    "id": "610fac55",
    "outputId": "5699d386-e695-46c7-d827-dc64f54e1cec"
   },
   "outputs": [
    {
     "data": {
      "text/plain": [
       "[('thick', 0.846562922000885),\n",
       " ('fruit', 0.8461551070213318),\n",
       " ('cathedral', 0.8409650325775146),\n",
       " ('snake', 0.8400936126708984),\n",
       " ('figure', 0.8366981148719788),\n",
       " ('reservoir', 0.8341946601867676),\n",
       " ('paw', 0.8335599303245544),\n",
       " ('wood', 0.8332733511924744),\n",
       " ('solid', 0.832988440990448),\n",
       " ('tension', 0.8327223658561707)]"
      ]
     },
     "execution_count": 5,
     "metadata": {},
     "output_type": "execute_result"
    }
   ],
   "source": [
    "model.wv.most_similar('wine', topn=10)"
   ]
  },
  {
   "cell_type": "code",
   "execution_count": 6,
   "metadata": {
    "colab": {
     "base_uri": "https://localhost:8080/"
    },
    "executionInfo": {
     "elapsed": 13378,
     "status": "ok",
     "timestamp": 1674147953137,
     "user": {
      "displayName": "Kamil Jędryczek",
      "userId": "12810365642155061129"
     },
     "user_tz": -60
    },
    "id": "eae89028",
    "outputId": "98efb979-c2da-440e-c2d6-7ab48d6a33be"
   },
   "outputs": [
    {
     "data": {
      "text/plain": [
       "(1108702, 1587168)"
      ]
     },
     "execution_count": 6,
     "metadata": {},
     "output_type": "execute_result"
    }
   ],
   "source": [
    "from nltk.corpus import webtext   \n",
    "sentences = webtext.sents()\n",
    "\n",
    "model2 = Word2Vec.load(\"word2vec.model\")\n",
    "model2.train(sentences, total_examples=1, epochs=4)"
   ]
  },
  {
   "cell_type": "code",
   "execution_count": 7,
   "metadata": {
    "colab": {
     "base_uri": "https://localhost:8080/"
    },
    "executionInfo": {
     "elapsed": 317,
     "status": "ok",
     "timestamp": 1674147969843,
     "user": {
      "displayName": "Kamil Jędryczek",
      "userId": "12810365642155061129"
     },
     "user_tz": -60
    },
    "id": "6aa95583",
    "outputId": "2ae1a6d5-481a-40cb-9d59-3572ef7b0390"
   },
   "outputs": [
    {
     "data": {
      "text/plain": [
       "[('fruit', 0.8499957919120789),\n",
       " ('thick', 0.8432979583740234),\n",
       " ('snake', 0.8388535976409912),\n",
       " ('figure', 0.837454617023468),\n",
       " ('cathedral', 0.8362568616867065),\n",
       " ('paw', 0.8316439390182495),\n",
       " ('reservoir', 0.8311736583709717),\n",
       " ('solid', 0.828296422958374),\n",
       " ('pigment', 0.8279564380645752),\n",
       " ('tension', 0.827664852142334)]"
      ]
     },
     "execution_count": 7,
     "metadata": {},
     "output_type": "execute_result"
    }
   ],
   "source": [
    "model2.wv.most_similar('wine', topn=10)"
   ]
  },
  {
   "cell_type": "code",
   "execution_count": 8,
   "metadata": {
    "colab": {
     "base_uri": "https://localhost:8080/",
     "height": 318
    },
    "executionInfo": {
     "elapsed": 512,
     "status": "error",
     "timestamp": 1674147971918,
     "user": {
      "displayName": "Kamil Jędryczek",
      "userId": "12810365642155061129"
     },
     "user_tz": -60
    },
    "id": "8c7ee0a6",
    "outputId": "26d4d7b6-5c46-4f17-ae93-f54b20eccc54"
   },
   "outputs": [
    {
     "ename": "KeyError",
     "evalue": "\"Key 'witcher' not present\"",
     "output_type": "error",
     "traceback": [
      "\u001b[0;31m---------------------------------------------------------------------------\u001b[0m",
      "\u001b[0;31mKeyError\u001b[0m                                  Traceback (most recent call last)",
      "Input \u001b[0;32mIn [8]\u001b[0m, in \u001b[0;36m<cell line: 1>\u001b[0;34m()\u001b[0m\n\u001b[0;32m----> 1\u001b[0m \u001b[43mmodel2\u001b[49m\u001b[38;5;241;43m.\u001b[39;49m\u001b[43mwv\u001b[49m\u001b[38;5;241;43m.\u001b[39;49m\u001b[43mmost_similar\u001b[49m\u001b[43m(\u001b[49m\u001b[38;5;124;43m'\u001b[39;49m\u001b[38;5;124;43mwitcher\u001b[39;49m\u001b[38;5;124;43m'\u001b[39;49m\u001b[43m,\u001b[49m\u001b[43m \u001b[49m\u001b[43mtopn\u001b[49m\u001b[38;5;241;43m=\u001b[39;49m\u001b[38;5;241;43m10\u001b[39;49m\u001b[43m)\u001b[49m\n",
      "File \u001b[0;32m~/miniforge3/envs/nlp/lib/python3.9/site-packages/gensim/models/keyedvectors.py:773\u001b[0m, in \u001b[0;36mKeyedVectors.most_similar\u001b[0;34m(self, positive, negative, topn, clip_start, clip_end, restrict_vocab, indexer)\u001b[0m\n\u001b[1;32m    771\u001b[0m     mean\u001b[38;5;241m.\u001b[39mappend(weight \u001b[38;5;241m*\u001b[39m key)\n\u001b[1;32m    772\u001b[0m \u001b[38;5;28;01melse\u001b[39;00m:\n\u001b[0;32m--> 773\u001b[0m     mean\u001b[38;5;241m.\u001b[39mappend(weight \u001b[38;5;241m*\u001b[39m \u001b[38;5;28;43mself\u001b[39;49m\u001b[38;5;241;43m.\u001b[39;49m\u001b[43mget_vector\u001b[49m\u001b[43m(\u001b[49m\u001b[43mkey\u001b[49m\u001b[43m,\u001b[49m\u001b[43m \u001b[49m\u001b[43mnorm\u001b[49m\u001b[38;5;241;43m=\u001b[39;49m\u001b[38;5;28;43;01mTrue\u001b[39;49;00m\u001b[43m)\u001b[49m)\n\u001b[1;32m    774\u001b[0m     \u001b[38;5;28;01mif\u001b[39;00m \u001b[38;5;28mself\u001b[39m\u001b[38;5;241m.\u001b[39mhas_index_for(key):\n\u001b[1;32m    775\u001b[0m         all_keys\u001b[38;5;241m.\u001b[39madd(\u001b[38;5;28mself\u001b[39m\u001b[38;5;241m.\u001b[39mget_index(key))\n",
      "File \u001b[0;32m~/miniforge3/envs/nlp/lib/python3.9/site-packages/gensim/models/keyedvectors.py:438\u001b[0m, in \u001b[0;36mKeyedVectors.get_vector\u001b[0;34m(self, key, norm)\u001b[0m\n\u001b[1;32m    414\u001b[0m \u001b[38;5;28;01mdef\u001b[39;00m \u001b[38;5;21mget_vector\u001b[39m(\u001b[38;5;28mself\u001b[39m, key, norm\u001b[38;5;241m=\u001b[39m\u001b[38;5;28;01mFalse\u001b[39;00m):\n\u001b[1;32m    415\u001b[0m     \u001b[38;5;124;03m\"\"\"Get the key's vector, as a 1D numpy array.\u001b[39;00m\n\u001b[1;32m    416\u001b[0m \n\u001b[1;32m    417\u001b[0m \u001b[38;5;124;03m    Parameters\u001b[39;00m\n\u001b[0;32m   (...)\u001b[0m\n\u001b[1;32m    436\u001b[0m \n\u001b[1;32m    437\u001b[0m \u001b[38;5;124;03m    \"\"\"\u001b[39;00m\n\u001b[0;32m--> 438\u001b[0m     index \u001b[38;5;241m=\u001b[39m \u001b[38;5;28;43mself\u001b[39;49m\u001b[38;5;241;43m.\u001b[39;49m\u001b[43mget_index\u001b[49m\u001b[43m(\u001b[49m\u001b[43mkey\u001b[49m\u001b[43m)\u001b[49m\n\u001b[1;32m    439\u001b[0m     \u001b[38;5;28;01mif\u001b[39;00m norm:\n\u001b[1;32m    440\u001b[0m         \u001b[38;5;28mself\u001b[39m\u001b[38;5;241m.\u001b[39mfill_norms()\n",
      "File \u001b[0;32m~/miniforge3/envs/nlp/lib/python3.9/site-packages/gensim/models/keyedvectors.py:412\u001b[0m, in \u001b[0;36mKeyedVectors.get_index\u001b[0;34m(self, key, default)\u001b[0m\n\u001b[1;32m    410\u001b[0m     \u001b[38;5;28;01mreturn\u001b[39;00m default\n\u001b[1;32m    411\u001b[0m \u001b[38;5;28;01melse\u001b[39;00m:\n\u001b[0;32m--> 412\u001b[0m     \u001b[38;5;28;01mraise\u001b[39;00m \u001b[38;5;167;01mKeyError\u001b[39;00m(\u001b[38;5;124mf\u001b[39m\u001b[38;5;124m\"\u001b[39m\u001b[38;5;124mKey \u001b[39m\u001b[38;5;124m'\u001b[39m\u001b[38;5;132;01m{\u001b[39;00mkey\u001b[38;5;132;01m}\u001b[39;00m\u001b[38;5;124m'\u001b[39m\u001b[38;5;124m not present\u001b[39m\u001b[38;5;124m\"\u001b[39m)\n",
      "\u001b[0;31mKeyError\u001b[0m: \"Key 'witcher' not present\""
     ]
    }
   ],
   "source": [
    "model2.wv.most_similar('witcher', topn=10)"
   ]
  },
  {
   "cell_type": "code",
   "execution_count": 9,
   "metadata": {
    "colab": {
     "base_uri": "https://localhost:8080/"
    },
    "executionInfo": {
     "elapsed": 824,
     "status": "ok",
     "timestamp": 1674147975011,
     "user": {
      "displayName": "Kamil Jędryczek",
      "userId": "12810365642155061129"
     },
     "user_tz": -60
    },
    "id": "b0af7246",
    "outputId": "6181699c-d006-4c72-a13e-71f2695f0ffd"
   },
   "outputs": [
    {
     "data": {
      "text/plain": [
       "[('Places', 0.632251501083374),\n",
       " ('upgraded', 0.6062009334564209),\n",
       " ('handsomely', 0.601911187171936),\n",
       " ('lances', 0.6003702878952026),\n",
       " ('in-laws', 0.5959280133247375),\n",
       " ('epicyclically', 0.5954881906509399),\n",
       " ('identifying', 0.5947790741920471),\n",
       " ('Sipping', 0.5913369655609131),\n",
       " ('Irishmen', 0.5836254954338074),\n",
       " ('barnyards', 0.5834058523178101)]"
      ]
     },
     "execution_count": 9,
     "metadata": {},
     "output_type": "execute_result"
    }
   ],
   "source": [
    "model.wv.most_similar(model.wv['father'] - model.wv['man'] + model.wv['women'], topn=10)"
   ]
  },
  {
   "cell_type": "code",
   "execution_count": 10,
   "metadata": {
    "colab": {
     "base_uri": "https://localhost:8080/"
    },
    "executionInfo": {
     "elapsed": 530,
     "status": "ok",
     "timestamp": 1674147978987,
     "user": {
      "displayName": "Kamil Jędryczek",
      "userId": "12810365642155061129"
     },
     "user_tz": -60
    },
    "id": "7ac7a700",
    "outputId": "69ee687d-9dc1-4513-ce18-54e5f4b214f3"
   },
   "outputs": [
    {
     "name": "stdout",
     "output_type": "stream",
     "text": [
      "['fasttext-wiki-news-subwords-300', 'conceptnet-numberbatch-17-06-300', 'word2vec-ruscorpora-300', 'word2vec-google-news-300', 'glove-wiki-gigaword-50', 'glove-wiki-gigaword-100', 'glove-wiki-gigaword-200', 'glove-wiki-gigaword-300', 'glove-twitter-25', 'glove-twitter-50', 'glove-twitter-100', 'glove-twitter-200', '__testing_word2vec-matrix-synopsis']\n"
     ]
    }
   ],
   "source": [
    "import gensim.downloader\n",
    "# Show all available models in gensim-data\n",
    "print(list(gensim.downloader.info()['models'].keys()))"
   ]
  },
  {
   "cell_type": "code",
   "execution_count": 11,
   "metadata": {
    "colab": {
     "base_uri": "https://localhost:8080/"
    },
    "id": "da53453a",
    "outputId": "1c462459-c6cf-4ac7-fcf6-44e39dbe5565"
   },
   "outputs": [],
   "source": [
    "w2v_vectors = gensim.downloader.load('word2vec-google-news-300')"
   ]
  },
  {
   "cell_type": "code",
   "execution_count": 12,
   "metadata": {
    "colab": {
     "base_uri": "https://localhost:8080/"
    },
    "executionInfo": {
     "elapsed": 8511,
     "status": "ok",
     "timestamp": 1656686919343,
     "user": {
      "displayName": "Kamil Jędryczek",
      "userId": "12810365642155061129"
     },
     "user_tz": -120
    },
    "id": "1c65f851",
    "outputId": "b351f908-5b52-4d7b-babf-fc90099a4143"
   },
   "outputs": [
    {
     "data": {
      "text/plain": [
       "[('dog', 1.0),\n",
       " ('dogs', 0.8680489659309387),\n",
       " ('puppy', 0.8106428384780884),\n",
       " ('pit_bull', 0.7803961038589478),\n",
       " ('pooch', 0.7627376914024353),\n",
       " ('cat', 0.7609457969665527),\n",
       " ('golden_retriever', 0.7500901818275452),\n",
       " ('German_shepherd', 0.7465174198150635),\n",
       " ('Rottweiler', 0.7437615394592285),\n",
       " ('beagle', 0.7418621778488159)]"
      ]
     },
     "execution_count": 12,
     "metadata": {},
     "output_type": "execute_result"
    }
   ],
   "source": [
    "w2v_vectors.most_similar(w2v_vectors['dog'])"
   ]
  },
  {
   "cell_type": "code",
   "execution_count": 13,
   "metadata": {
    "colab": {
     "base_uri": "https://localhost:8080/"
    },
    "executionInfo": {
     "elapsed": 664,
     "status": "ok",
     "timestamp": 1656686920001,
     "user": {
      "displayName": "Kamil Jędryczek",
      "userId": "12810365642155061129"
     },
     "user_tz": -120
    },
    "id": "39d3d174",
    "outputId": "009537b8-aced-4849-ef80-5c3e26da5c5e"
   },
   "outputs": [
    {
     "data": {
      "text/plain": [
       "[('women', 0.6575702428817749),\n",
       " ('husbands', 0.5938421487808228),\n",
       " ('mothers', 0.5741605758666992),\n",
       " ('daughters', 0.5590043067932129),\n",
       " ('father', 0.5534617900848389),\n",
       " ('fathers', 0.5441720485687256),\n",
       " ('sisters', 0.5315889120101929),\n",
       " ('sons', 0.5195902585983276),\n",
       " ('children', 0.5147565007209778),\n",
       " ('wives', 0.5111095309257507)]"
      ]
     },
     "execution_count": 13,
     "metadata": {},
     "output_type": "execute_result"
    }
   ],
   "source": [
    "w2v_vectors.most_similar(w2v_vectors['father'] - w2v_vectors['man'] + w2v_vectors['women'], topn=10)"
   ]
  },
  {
   "cell_type": "code",
   "execution_count": 14,
   "metadata": {
    "colab": {
     "base_uri": "https://localhost:8080/"
    },
    "executionInfo": {
     "elapsed": 387,
     "status": "ok",
     "timestamp": 1656686920384,
     "user": {
      "displayName": "Kamil Jędryczek",
      "userId": "12810365642155061129"
     },
     "user_tz": -120
    },
    "id": "b3bd8fa5",
    "outputId": "1e50d516-4451-4d60-9fc9-66c6cc86f999"
   },
   "outputs": [
    {
     "data": {
      "text/plain": [
       "[('computer', 0.6250295639038086),\n",
       " ('death', 0.5794907808303833),\n",
       " ('computers', 0.5006648302078247),\n",
       " ('Company_Nasdaq_ATAI', 0.44406792521476746),\n",
       " ('PCs', 0.4163816571235657),\n",
       " ('Disk_fragmentation', 0.3987767994403839),\n",
       " ('Computer', 0.38946494460105896),\n",
       " ('daughter_Tomasita', 0.38889190554618835),\n",
       " ('untimely_death', 0.38871726393699646),\n",
       " ('PC', 0.38824915885925293)]"
      ]
     },
     "execution_count": 14,
     "metadata": {},
     "output_type": "execute_result"
    }
   ],
   "source": [
    "w2v_vectors.most_similar(w2v_vectors['death'] - w2v_vectors['man'] + w2v_vectors['computer'], topn=10)"
   ]
  },
  {
   "cell_type": "code",
   "execution_count": 15,
   "metadata": {
    "id": "6f9ff8e6"
   },
   "outputs": [],
   "source": [
    "import matplotlib.pyplot as plt\n",
    "from sklearn.decomposition  import PCA\n",
    "import numpy as np\n",
    "\n",
    "def to_2d(embeddings):\n",
    "    # To reduce embedding dims without losing much information we use PCA\n",
    "    pca = PCA(n_components=2, whiten=True)\n",
    "    pca.fit(embeddings)\n",
    "    return pca.transform(embeddings)\n",
    "\n",
    "\n",
    "def annotated_scatter(points, names, color='blue'):\n",
    "    x_coords = points[:, 0]\n",
    "    y_coords = points[:, 1]\n",
    "    plt.scatter(x_coords, y_coords, c=color)\n",
    "    for label, x, y in zip(names, x_coords, y_coords):\n",
    "                      plt.annotate(label, xy=(x, y), xytext=(0, 0), textcoords='offset points')\n",
    "    plt.xlim(x_coords.min() - .5, x_coords.max() + .5)\n",
    "    plt.ylim(y_coords.min() - .5, y_coords.max() + .5)\n",
    "\n",
    "    \n",
    "def plot_embeddings(embeddings, names, color='blue', show=True):\n",
    "    X_train = np.array([embeddings[k] for k in names])\n",
    "    embeddings_2d = to_2d(X_train)\n",
    "    \n",
    "    annotated_scatter(embeddings_2d, names, color)\n",
    "    plt.grid()\n",
    "    \n",
    "    if show:\n",
    "        plt.show()"
   ]
  },
  {
   "cell_type": "code",
   "execution_count": 16,
   "metadata": {
    "id": "673140fb"
   },
   "outputs": [],
   "source": [
    "near_dog = [elem[0] for elem in w2v_vectors.most_similar(w2v_vectors['dog'])]\n",
    "near_computer = [elem[0] for elem in w2v_vectors.most_similar(w2v_vectors['computer'])]"
   ]
  },
  {
   "cell_type": "code",
   "execution_count": 17,
   "metadata": {
    "colab": {
     "base_uri": "https://localhost:8080/",
     "height": 265
    },
    "executionInfo": {
     "elapsed": 775,
     "status": "ok",
     "timestamp": 1656687255265,
     "user": {
      "displayName": "Kamil Jędryczek",
      "userId": "12810365642155061129"
     },
     "user_tz": -120
    },
    "id": "9f5324ec",
    "outputId": "aedc42f9-8397-4b6b-d767-8d0611bcef48"
   },
   "outputs": [
    {
     "data": {
      "image/png": "[encoded data removed]",
      "text/plain": [
       "<Figure size 432x288 with 1 Axes>"
      ]
     },
     "metadata": {
      "needs_background": "light"
     },
     "output_type": "display_data"
    }
   ],
   "source": [
    "plot_embeddings(w2v_vectors, \n",
    "                near_dog + near_computer, \n",
    "                color=['red'] * len(near_dog) + ['green'] * len(near_computer))"
   ]
  },
  {
   "cell_type": "code",
   "execution_count": 18,
   "metadata": {
    "id": "34cc9cff"
   },
   "outputs": [],
   "source": [
    "from collections import namedtuple\n",
    "import matplotlib.lines as mlines\n",
    "from matplotlib import cm\n",
    "\n",
    "LinearSubs = namedtuple('LinearSubs', \n",
    "                        ('word_pair', 'name'))\n",
    "\n",
    "def plot_linear_substructures(linear_subs, embeddings):\n",
    "    embeddings_matrix = [embeddings[p] for ls in linear_subs for p in ls.word_pair]\n",
    "    embeddings_matrix = np.array(embeddings_matrix)\n",
    "    pair_names = [p for ls in linear_subs for p in ls.word_pair]\n",
    "    ls_names = [ls.name for ls in linear_subs]\n",
    "    embeddings_2d = to_2d(embeddings_matrix)\n",
    "    annotated_scatter(embeddings_2d, \n",
    "                      pair_names, \n",
    "                      cm.Set1.colors[:len(embeddings_2d)])\n",
    "    \n",
    "    for i in range(0, len(embeddings_2d), 2):\n",
    "        p1 = embeddings_2d[i]\n",
    "        p2 = embeddings_2d[i + 1]\n",
    "        # Center of the linear substructure\n",
    "        center = [(p1[i] + p2[i]) / 2 + .04 for i in range(2)]\n",
    "        \n",
    "        plt.plot(*zip(p1, p2), '--')\n",
    "        plt.annotate(ls_names[i // 2], \n",
    "                     xy=center, \n",
    "                     xytext=(0, 0), textcoords='offset points')"
   ]
  },
  {
   "cell_type": "code",
   "execution_count": 19,
   "metadata": {
    "colab": {
     "base_uri": "https://localhost:8080/",
     "height": 320
    },
    "executionInfo": {
     "elapsed": 1652,
     "status": "ok",
     "timestamp": 1656687274198,
     "user": {
      "displayName": "Kamil Jędryczek",
      "userId": "12810365642155061129"
     },
     "user_tz": -120
    },
    "id": "aeec3fb5",
    "outputId": "3c7e806c-a03d-42bf-c643-da34f8661bed"
   },
   "outputs": [
    {
     "data": {
      "image/png": "[encoded data removed]",
      "text/plain": [
       "<Figure size 1440x360 with 3 Axes>"
      ]
     },
     "metadata": {
      "needs_background": "light"
     },
     "output_type": "display_data"
    }
   ],
   "source": [
    "plt.figure(figsize=(20, 5))\n",
    "\n",
    "plt.subplot(131)\n",
    "plot_linear_substructures([LinearSubs(('man', 'woman'), 'sex'),\n",
    "                           LinearSubs(('king', 'queen'), 'sex'),\n",
    "                           LinearSubs(('mother', 'father'), 'sex')], w2v_vectors)\n",
    "\n",
    "plt.subplot(132)\n",
    "plot_linear_substructures([LinearSubs(('cat', 'feline'), 'family'),\n",
    "                           LinearSubs(('dog', 'canine'), 'family'),\n",
    "                           LinearSubs(('parrot', 'bird'), 'family')], w2v_vectors)\n",
    "\n",
    "plt.subplot(133)\n",
    "plot_linear_substructures([LinearSubs(('samsung', 'mobile'), 'product'),\n",
    "                           LinearSubs(('sony', 'tv'), 'product'),\n",
    "                           LinearSubs(('ikea', 'furniture'), 'product')], w2v_vectors)"
   ]
  },
  {
   "cell_type": "code",
   "execution_count": 20,
   "metadata": {
    "colab": {
     "base_uri": "https://localhost:8080/"
    },
    "executionInfo": {
     "elapsed": 185611,
     "status": "ok",
     "timestamp": 1656687465944,
     "user": {
      "displayName": "Kamil Jędryczek",
      "userId": "12810365642155061129"
     },
     "user_tz": -120
    },
    "id": "fdb0a4cf",
    "outputId": "709238da-dd09-45cf-c402-f7871b180d7b"
   },
   "outputs": [
    {
     "name": "stdout",
     "output_type": "stream",
     "text": [
      "  % Total    % Received % Xferd  Average Speed   Time    Time     Time  Current\n",
      "                                 Dload  Upload   Total   Spent    Left  Speed\n",
      "  0   308    0     0    0     0      0      0 --:--:-- --:--:-- --:--:--     0\n",
      "  0   346    0     0    0     0      0      0 --:--:--  0:00:01 --:--:--     0\n",
      "100  822M  100  822M    0     0  1597k      0  0:08:47  0:08:47 --:--:-- 2250k   0     0   655k      0  0:21:23  0:00:07  0:21:16  935k39k      0  0:21:56  0:00:13  0:21:43  588k    0     0   620k      0  0:22:37  0:00:16  0:22:21  525k    0   554k      0  0:25:17  0:00:41  0:24:36  638k6 51.5M    0     0   654k      0  0:21:27  0:01:20  0:20:07 1655k   0   905k      0  0:15:30  0:01:52  0:13:38 1336k 0     0   920k      0  0:15:15  0:02:04  0:13:11 1278k   0     0   927k      0  0:15:07  0:02:06  0:13:01 1417k    0  1187k      0  0:11:48  0:03:05  0:08:43 1902k 1288k      0  0:10:53  0:03:21  0:07:32 2339k   0     0  1319k      0  0:10:38  0:03:27  0:07:11 2333k  0  1347k      0  0:10:24  0:03:33  0:06:51 2294k0     0  1350k      0  0:10:23  0:03:34  0:06:49 2149k0  1381k      0  0:10:09  0:03:43  0:06:26 2203k  0     0  1398k      0  0:10:02  0:03:46  0:06:16 2509k1479k      0  0:09:29  0:04:23  0:05:06 1677k0:09:27  0:04:27  0:05:00 1779k0  1484k      0  0:09:27  0:04:29  0:04:58 1731k 1485k      0  0:09:26  0:04:30  0:04:56 1754k   0     0  1504k      0  0:09:19  0:04:46  0:04:33 1676kM    0     0  1564k      0  0:08:58  0:05:38  0:03:20 2315k64  822M   64  528M    0     0  1574k      0  0:08:54  0:05:43  0:03:11 2294k   0     0  1568k      0  0:08:56  0:05:52  0:03:04 1223k   0     0  1555k      0  0:09:01  0:06:00  0:03:01  867k 548M    0     0  1552k      0  0:09:02  0:06:01  0:03:01  793kM    0     0  1545k      0  0:09:04  0:06:22  0:02:42 2054k1565k      0  0:08:57  0:07:12  0:01:45 2325k     0  1577k      0  0:08:53  0:07:24  0:01:29 1691k 0  1582k      0  0:08:51  0:07:32  0:01:19 1934k1578k      0  0:08:53  0:07:55  0:00:58 1067k77k      0  0:08:53  0:07:58  0:00:55 1321k2M    0     0  1589k      0  0:08:49  0:08:17  0:00:32 2026k4  780M    0     0  1586k      0  0:08:50  0:08:23  0:00:27 1221k\n",
      "Warning: Got more output options than URLs\n"
     ]
    }
   ],
   "source": [
    "#Glove 6B\n",
    "\n",
    "!curl -OL http://nlp.stanford.edu/data/glove.6B.zip -o glove.6B.zip\n",
    "#wget\n",
    "# !wget http://nlp.stanford.edu/data/glove.6B.zip"
   ]
  },
  {
   "cell_type": "code",
   "execution_count": 21,
   "metadata": {
    "id": "SKsZZYSAQ7Gt"
   },
   "outputs": [
    {
     "name": "stdout",
     "output_type": "stream",
     "text": [
      "Archive:  glove.6B.zip\n",
      "  inflating: glove.6B.50d.txt        \n",
      "  inflating: glove.6B.100d.txt       \n",
      "  inflating: glove.6B.200d.txt       \n",
      "  inflating: glove.6B.300d.txt       \n"
     ]
    }
   ],
   "source": [
    "!unzip -o glove.6B.zip\n",
    "# !unzip -o /content/glove.6B.zip"
   ]
  },
  {
   "cell_type": "code",
   "execution_count": 22,
   "metadata": {
    "id": "bef235f1"
   },
   "outputs": [],
   "source": [
    "glove_embeddings = {}\n",
    "with open('glove.6B.300d.txt') as f:\n",
    "    glove_embeddings = {l.split()[0]: np.array(l.split()[1:]).astype('float') for l in f}"
   ]
  },
  {
   "cell_type": "code",
   "execution_count": 23,
   "metadata": {
    "id": "fbe78d30"
   },
   "outputs": [],
   "source": [
    "def get_closest(x, embeddings, topn=3):\n",
    "    \"\"\"\n",
    "    Get the closest embeddings calculating the euclidean distance\n",
    "    Parameters\n",
    "    ----------\n",
    "    x: np.ndarray\n",
    "      Vector containing an embedding\n",
    "    top_k: int, optional\n",
    "      Get the top k similar embeddings\n",
    "    Returns\n",
    "    -------\n",
    "    dict\n",
    "      Dict containing the top k similar embeddings to the given x\n",
    "    \"\"\"\n",
    "    # Stack all embeddings in a single matrix. Note: the matrix dimention will be\n",
    "    # V x D where V is the vocabulary size and D is the embedding dimension\n",
    "    embedding_matrix = np.array(list(embeddings.values()))\n",
    "    # Using broadcasting compute distance to each embedding in our vocabulary\n",
    "    distances = x - embedding_matrix\n",
    "    # Comoute the magnitude of each distance\n",
    "    distances = np.linalg.norm(distances, axis=1)\n",
    "    # Sort distance and keep the smallest k\n",
    "    min_idx = np.argsort(distances)[:topn]\n",
    "    return [list(embeddings)[i] for i in min_idx]"
   ]
  },
  {
   "cell_type": "code",
   "execution_count": 24,
   "metadata": {
    "colab": {
     "base_uri": "https://localhost:8080/",
     "height": 320
    },
    "executionInfo": {
     "elapsed": 926,
     "status": "ok",
     "timestamp": 1656687555896,
     "user": {
      "displayName": "Kamil Jędryczek",
      "userId": "12810365642155061129"
     },
     "user_tz": -120
    },
    "id": "9506e5fd",
    "outputId": "0eec2587-fd7a-4621-ba5d-f61b14619eb3"
   },
   "outputs": [
    {
     "data": {
      "image/png": "[encoded data removed]",
      "text/plain": [
       "<Figure size 1440x360 with 3 Axes>"
      ]
     },
     "metadata": {
      "needs_background": "light"
     },
     "output_type": "display_data"
    }
   ],
   "source": [
    "plt.figure(figsize=(20, 5))\n",
    "\n",
    "plt.subplot(131)\n",
    "plot_linear_substructures([LinearSubs(('man', 'woman'), 'sex'),\n",
    "                           LinearSubs(('king', 'queen'), 'sex'),\n",
    "                           LinearSubs(('mother', 'father'), 'sex')], glove_embeddings)\n",
    "\n",
    "plt.subplot(132)\n",
    "plot_linear_substructures([LinearSubs(('cat', 'feline'), 'family'),\n",
    "                           LinearSubs(('dog', 'canine'), 'family'),\n",
    "                           LinearSubs(('parrot', 'bird'), 'family')], glove_embeddings)\n",
    "\n",
    "plt.subplot(133)\n",
    "plot_linear_substructures([LinearSubs(('samsung', 'mobile'), 'product'),\n",
    "                           LinearSubs(('sony', 'tv'), 'product'),\n",
    "                           LinearSubs(('ikea', 'furniture'), 'product')], glove_embeddings)"
   ]
  },
  {
   "cell_type": "code",
   "execution_count": 25,
   "metadata": {
    "colab": {
     "base_uri": "https://localhost:8080/"
    },
    "executionInfo": {
     "elapsed": 3224,
     "status": "ok",
     "timestamp": 1656687565451,
     "user": {
      "displayName": "Kamil Jędryczek",
      "userId": "12810365642155061129"
     },
     "user_tz": -120
    },
    "id": "12414929",
    "outputId": "da3479ac-fc3f-409c-8458-8279d4cb8aaa"
   },
   "outputs": [
    {
     "data": {
      "text/plain": [
       "['king', 'queen', 'monarch']"
      ]
     },
     "execution_count": 25,
     "metadata": {},
     "output_type": "execute_result"
    }
   ],
   "source": [
    "get_closest(glove_embeddings['king'] - glove_embeddings['man'] + glove_embeddings['woman'], glove_embeddings)"
   ]
  },
  {
   "cell_type": "code",
   "execution_count": 26,
   "metadata": {
    "id": "2f06d5e9",
    "outputId": "8786cb2e-2f07-4d93-ed70-fa6406434615"
   },
   "outputs": [],
   "source": [
    "# vectors = {name: gensim.downloader.load(name) for name in list(gensim.downloader.info()['models'].keys())}"
   ]
  },
  {
   "cell_type": "code",
   "execution_count": 27,
   "metadata": {
    "id": "c1e61431",
    "outputId": "9a5c650c-ec6b-496c-d256-efaf74abae75"
   },
   "outputs": [],
   "source": [
    "# word1 = 'king'\n",
    "# word2 = 'man'\n",
    "# word3 = 'woman'\n",
    "# for name, vector in vectors.items():\n",
    "#     try:\n",
    "#         result = vector.most_similar(vector[word1] - vector[word2] + vector[word3])\n",
    "#     except:\n",
    "#         print(f\"Calcuation not possible for {name}\")\n",
    "#         print('-'*60)\n",
    "#     else:\n",
    "#         print(f\"Embedding: {name}\")\n",
    "#         for i in result:\n",
    "#             print(i, end=\"\\n\")\n",
    "#         print('-'*60)"
   ]
  },
  {
   "cell_type": "code",
   "execution_count": 28,
   "metadata": {
    "id": "4a18e2b0",
    "outputId": "78a9baae-54ed-4672-b584-55a6ccf2d72f"
   },
   "outputs": [],
   "source": [
    "# word1 = 'father'\n",
    "# word2 = 'man'\n",
    "# word3 = 'woman'\n",
    "# for vector, name in zip(vectors, gensim.downloader.info()['models'].keys()):\n",
    "#     try:\n",
    "#         result = vector.most_similar(vector[word1] - vector[word2] + vector[word3])\n",
    "#     except:\n",
    "#         print(f\"Calcuation not possible for {name}\")\n",
    "#         print('-'*60)\n",
    "#     else:\n",
    "#         print(f\"Embedding: {name}\")\n",
    "#         for i in result:\n",
    "#             print(i, end=\"\\n\")\n",
    "#         print('-'*60)"
   ]
  },
  {
   "cell_type": "code",
   "execution_count": null,
   "metadata": {
    "id": "05dc34bd",
    "outputId": "f9e066d2-632f-477e-9e54-967de3879454"
   },
   "outputs": [
    {
     "name": "stdout",
     "output_type": "stream",
     "text": [
      "Embedding: fasttext-wiki-news-subwords-300\n",
      "('man', 0.7935950756072998)\n",
      "('turnoff', 0.7012911438941956)\n",
      "('woman', 0.6520333290100098)\n",
      "('man-love', 0.6380185484886169)\n",
      "('cowman', 0.6044278144836426)\n",
      "('blackman', 0.5975620150566101)\n",
      "('man--and', 0.5969740152359009)\n",
      "('man--', 0.5941734910011292)\n",
      "('boy-man', 0.5879694223403931)\n",
      "('turn-off', 0.5870673656463623)\n",
      "------------------------------------------------------------\n",
      "Calcuation not possible for conceptnet-numberbatch-17-06-300\n",
      "------------------------------------------------------------\n",
      "Calcuation not possible for word2vec-ruscorpora-300\n",
      "------------------------------------------------------------\n",
      "Embedding: word2vec-google-news-300\n",
      "('turnoff', 0.7237362265586853)\n",
      "('man', 0.49477481842041016)\n",
      "('woman', 0.39133355021476746)\n",
      "('shooter_balding_##ish', 0.3738951086997986)\n",
      "('Gwydir_Highway', 0.37055811285972595)\n",
      "('quaint_confection', 0.3693695068359375)\n",
      "('passerby', 0.36667531728744507)\n",
      "('Otira', 0.366344690322876)\n",
      "('Gower_Gulch', 0.36278852820396423)\n",
      "('Lefeuvre_Road', 0.36221209168434143)\n",
      "------------------------------------------------------------\n",
      "Embedding: glove-wiki-gigaword-50\n",
      "('pauper', 0.5474612712860107)\n",
      "('splosion', 0.5313147902488708)\n",
      "('crier', 0.519891619682312)\n",
      "('hughie', 0.5185233950614929)\n",
      "('leht', 0.5174285769462585)\n",
      "('assal', 0.5166643857955933)\n",
      "('irishman', 0.5143762826919556)\n",
      "('nihn', 0.5086936354637146)\n",
      "('janeane', 0.5054354667663574)\n",
      "('hypocrite', 0.501118004322052)\n",
      "------------------------------------------------------------\n",
      "Embedding: glove-wiki-gigaword-100\n",
      "('turnoff', 0.4880475401878357)\n",
      "('irishman', 0.4256478250026703)\n",
      "('haired', 0.41124749183654785)\n",
      "('murderer', 0.410080224275589)\n",
      "('lawman', 0.40285781025886536)\n",
      "('furlong', 0.3971306383609772)\n",
      "('moonlit', 0.39297235012054443)\n",
      "('man', 0.3908770680427551)\n",
      "('rattler', 0.387622594833374)\n",
      "('charmer', 0.3867117166519165)\n",
      "------------------------------------------------------------\n",
      "Embedding: glove-wiki-gigaword-200\n",
      "('turnoff', 0.6163368821144104)\n",
      "('well-manicured', 0.3797585666179657)\n",
      "('man', 0.3658585250377655)\n",
      "('heavyset', 0.3581734597682953)\n",
      "('purdy', 0.3511798083782196)\n",
      "('hyndman', 0.34878355264663696)\n",
      "('bloke', 0.337725430727005)\n",
      "('invasor', 0.3346843123435974)\n",
      "('al-nu', 0.3329222798347473)\n",
      "('drinkwater', 0.33238181471824646)\n",
      "------------------------------------------------------------\n",
      "Embedding: glove-wiki-gigaword-300\n",
      "('turnoff', 0.6129317879676819)\n",
      "('man', 0.339046835899353)\n",
      "('beenie', 0.3163820803165436)\n",
      "('well-manicured', 0.3154221475124359)\n",
      "('heavyset', 0.29941505193710327)\n",
      "('absolution', 0.29816755652427673)\n",
      "('purdy', 0.2883175015449524)\n",
      "('hyndman', 0.2868407070636749)\n",
      "('slob', 0.2845690846443176)\n",
      "('kani', 0.2727958858013153)\n",
      "------------------------------------------------------------\n",
      "Embedding: glove-twitter-25\n",
      "('bastards', 0.7787497639656067)\n",
      "('fucka', 0.7416845560073853)\n",
      "('motherfuckers', 0.7204691171646118)\n",
      "('motherfucker', 0.719166100025177)\n",
      "('bastard', 0.716601550579071)\n",
      "('ungrateful', 0.7095576524734497)\n",
      "('scum', 0.7069284915924072)\n",
      "('muthafucka', 0.697790801525116)\n",
      "('cunts', 0.6945449113845825)\n",
      "('unlucky', 0.6898298263549805)\n",
      "------------------------------------------------------------\n",
      "Embedding: glove-twitter-50\n",
      "('الأملِ', 0.63198322057724)\n",
      "('turnoff', 0.6153509616851807)\n",
      "('المهاجره', 0.5936881899833679)\n",
      "('musty', 0.5742061138153076)\n",
      "('كالأم', 0.5631020665168762)\n",
      "('hater', 0.5504607558250427)\n",
      "('يقتصر', 0.5466185212135315)\n",
      "('الـمـشـكـلـه', 0.5460366606712341)\n",
      "('الأجسآد', 0.5431292057037354)\n",
      "('disrespectful', 0.5419632196426392)\n",
      "------------------------------------------------------------\n",
      "Embedding: glove-twitter-100\n",
      "('turnoff', 0.6407576203346252)\n",
      "('man', 0.4516788721084595)\n",
      "('disrespect', 0.45042434334754944)\n",
      "('hunk', 0.44030430912971497)\n",
      "('turnon', 0.4364855885505676)\n",
      "('disrespectful', 0.43523305654525757)\n",
      "('cocky', 0.4322985112667084)\n",
      "('yuck', 0.4260774850845337)\n",
      "('hater', 0.4229276478290558)\n",
      "('faf', 0.42054033279418945)\n",
      "------------------------------------------------------------\n",
      "Embedding: glove-twitter-200\n",
      "('turnoff', 0.649398922920227)\n",
      "('man', 0.531970202922821)\n",
      "('majorturnoff', 0.43457743525505066)\n",
      "('mans', 0.4146290719509125)\n",
      "('unattractive', 0.39441990852355957)\n",
      "('men', 0.38991889357566833)\n",
      "('turnon', 0.38228949904441833)\n",
      "('eww', 0.3746145963668823)\n",
      "('rft', 0.3670603334903717)\n",
      "('boy', 0.3658161461353302)\n",
      "------------------------------------------------------------\n",
      "Calcuation not possible for __testing_word2vec-matrix-synopsis\n",
      "------------------------------------------------------------\n"
     ]
    }
   ],
   "source": [
    "# word1 = 'death'\n",
    "# word2 = 'man'\n",
    "# word3 = 'computer'\n",
    "# for vector, name in zip(vectors, gensim.downloader.info()['models'].keys()):\n",
    "#     try:\n",
    "#         result = vector.most_similar(vector[word1] - vector[word2] + vector[word3])\n",
    "#     except:\n",
    "#         print(f\"Calcuation not possible for {name}\")\n",
    "#         print('-'*60)\n",
    "#     else:\n",
    "#         print(f\"Embedding: {name}\")\n",
    "#         for i in result:\n",
    "#             print(i, end=\"\\n\")\n",
    "#         print('-'*60)"
   ]
  }
 ],
 "metadata": {
  "colab": {
   "authorship_tag": "ABX9TyNWBgOSTDRVfK73nMJEMUuR",
   "provenance": [
    {
     "file_id": "1d0AIvtquNEVgRy_ImfcjcC_14i5LK94V",
     "timestamp": 1674148041830
    }
   ]
  },
  "kernelspec": {
   "display_name": "nlp",
   "language": "python",
   "name": "nlp"
  },
  "language_info": {
   "codemirror_mode": {
    "name": "ipython",
    "version": 3
   },
   "file_extension": ".py",
   "mimetype": "text/x-python",
   "name": "python",
   "nbconvert_exporter": "python",
   "pygments_lexer": "ipython3",
   "version": "3.9.13"
  }
 },
 "nbformat": 4,
 "nbformat_minor": 1
}
